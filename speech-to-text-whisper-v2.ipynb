{
 "cells": [
  {
   "cell_type": "markdown",
   "metadata": {},
   "source": [
    "Implementing pipeline that translate transcripted audio from Polish to English"
   ]
  },
  {
   "cell_type": "code",
   "execution_count": 1,
   "metadata": {},
   "outputs": [
    {
     "name": "stderr",
     "output_type": "stream",
     "text": [
      "C:\\Users\\Kuba\\AppData\\Roaming\\Python\\Python311\\site-packages\\tqdm\\auto.py:21: TqdmWarning: IProgress not found. Please update jupyter and ipywidgets. See https://ipywidgets.readthedocs.io/en/stable/user_install.html\n",
      "  from .autonotebook import tqdm as notebook_tqdm\n",
      "Special tokens have been added in the vocabulary, make sure the associated word embeddings are fine-tuned or trained.\n"
     ]
    }
   ],
   "source": [
    "# Load model directly\n",
    "from transformers import AutoProcessor, AutoModelForSpeechSeq2Seq\n",
    "\n",
    "processor = AutoProcessor.from_pretrained(\"openai/whisper-large-v2\")\n",
    "model = AutoModelForSpeechSeq2Seq.from_pretrained(\"openai/whisper-large-v2\")"
   ]
  },
  {
   "cell_type": "code",
   "execution_count": 2,
   "metadata": {},
   "outputs": [
    {
     "name": "stderr",
     "output_type": "stream",
     "text": [
      "Special tokens have been added in the vocabulary, make sure the associated word embeddings are fine-tuned or trained.\n"
     ]
    }
   ],
   "source": [
    "import torch\n",
    "from transformers import pipeline\n",
    "\n",
    "device = \"cuda:0\" if torch.cuda.is_available() else \"cpu\"\n",
    "\n",
    "pipe = pipeline(\n",
    "  \"automatic-speech-recognition\",\n",
    "  model=\"openai/whisper-large-v2\",\n",
    "  chunk_length_s=5,\n",
    "  device=device,\n",
    ")"
   ]
  },
  {
   "cell_type": "code",
   "execution_count": 40,
   "metadata": {},
   "outputs": [],
   "source": [
    "import pyaudio\n",
    "import numpy as np\n",
    "\n",
    "CHUNK = 1024\n",
    "FORMAT = pyaudio.paInt16\n",
    "CHANNELS = 1\n",
    "RATE = 16000"
   ]
  },
  {
   "cell_type": "code",
   "execution_count": 41,
   "metadata": {},
   "outputs": [],
   "source": [
    "import threading\n",
    "import queue\n",
    "\n",
    "audio_queue = queue.Queue()\n",
    "\n",
    "continue_streaming = True"
   ]
  },
  {
   "cell_type": "code",
   "execution_count": 42,
   "metadata": {},
   "outputs": [],
   "source": [
    "def transcription_thread():\n",
    "    while continue_streaming:\n",
    "        try:\n",
    "            audio_data = audio_queue.get(timeout=1)  # Get audio chunk from the queue\n",
    "            transcription = pipe(audio_data)\n",
    "            print(transcription, end='', flush=True)\n",
    "        except queue.Empty:\n",
    "            continue"
   ]
  },
  {
   "cell_type": "code",
   "execution_count": 43,
   "metadata": {},
   "outputs": [],
   "source": [
    "import wave\n",
    "\n",
    "def record_audio(filename, record_seconds=5, channels=1, rate=16000):\n",
    "    p = pyaudio.PyAudio()\n",
    "    stream = p.open(format=FORMAT,\n",
    "                    channels=channels,\n",
    "                    rate=rate,\n",
    "                    input=True,\n",
    "                    frames_per_buffer=CHUNK,\n",
    "                    input_device_index=2)\n",
    "    print(\"Recording...\")\n",
    "    frames = []\n",
    "    for i in range(0, int(rate / CHUNK * record_seconds)):\n",
    "        data = stream.read(CHUNK)\n",
    "        frames.append(data)\n",
    "    print(\"Finished recording.\")\n",
    "    stream.stop_stream()\n",
    "    stream.close()\n",
    "    p.terminate()\n",
    "    wf = wave.open(filename, 'wb')\n",
    "    wf.setnchannels(channels)\n",
    "    wf.setsampwidth(p.get_sample_size(FORMAT))\n",
    "    wf.setframerate(rate)\n",
    "    wf.writeframes(b''.join(frames))\n",
    "    wf.close()"
   ]
  },
  {
   "cell_type": "code",
   "execution_count": 44,
   "metadata": {},
   "outputs": [],
   "source": [
    "def transcribe_audio(filename):\n",
    "    audio_data = np.fromfile(filename, dtype=np.int16)  # Load audio data from file\n",
    "    transcription = pipe(audio_data)\n",
    "    print(transcription)"
   ]
  },
  {
   "cell_type": "code",
   "execution_count": 45,
   "metadata": {},
   "outputs": [
    {
     "name": "stdout",
     "output_type": "stream",
     "text": [
      "    0 Mapowanie dźwięku Microsoft - Input, MME (2 in, 0 out)\n",
      ">   1 Mikrofon (Virtual Desktop Audio, MME (2 in, 0 out)\n",
      "    2 Stream Mix (2 — Razer Seiren V2, MME (2 in, 0 out)\n",
      "    3 Playback Mix (2 — Razer Seiren , MME (2 in, 0 out)\n",
      "    4 Mikrofon (Voicemod Virtual Audi, MME (2 in, 0 out)\n",
      "    5 Mikrofon (Steam Streaming Micro, MME (2 in, 0 out)\n",
      "    6 Headset Microphone (Oculus Virt, MME (2 in, 0 out)\n",
      "    7 Mikrofon (Razer Barracuda X), MME (2 in, 0 out)\n",
      "    8 Microphone (2 — Razer Seiren V2, MME (2 in, 0 out)\n",
      "    9 Mapowanie dźwięku Microsoft - Output, MME (0 in, 2 out)\n",
      "<  10 Głośniki (Razer Barracuda X), MME (0 in, 2 out)\n",
      "   11 Słuchawki (Oculus Virtual Audio, MME (0 in, 2 out)\n",
      "   12 Sound Effects (2 — Razer Seiren, MME (0 in, 2 out)\n",
      "   13 Game (2 — Razer Seiren V2 X), MME (0 in, 2 out)\n",
      "   14 Głośniki (7.1 Surround Sound), MME (0 in, 2 out)\n",
      "   15 Głośniki (Steam Streaming Speak, MME (0 in, 2 out)\n",
      "   16 Realtek Digital Output (Realtek, MME (0 in, 2 out)\n",
      "   17 Aux 2 (2 — Razer Seiren V2 X), MME (0 in, 2 out)\n",
      "   18 Browser (2 — Razer Seiren V2 X), MME (0 in, 2 out)\n",
      "   19 KG251Q (NVIDIA High Definition , MME (0 in, 2 out)\n",
      "   20 Aux 3 (2 — Razer Seiren V2 X), MME (0 in, 2 out)\n",
      "   21 Głośniki (Steam Streaming Micro, MME (0 in, 2 out)\n",
      "   22 Linia (Voicemod Virtual Audio D, MME (0 in, 2 out)\n",
      "   23 Voice Chat (2 — Razer Seiren V2, MME (0 in, 2 out)\n",
      "   24 System (2 — Razer Seiren V2 X), MME (0 in, 2 out)\n",
      "   25 Aux 1 (2 — Razer Seiren V2 X), MME (0 in, 2 out)\n",
      "   26 Music (2 — Razer Seiren V2 X), MME (0 in, 2 out)\n",
      "   27 Headphones (2 — Razer Seiren V2, MME (0 in, 2 out)\n",
      "   28 Podstawowy sterownik przechwytywania dźwięku, Windows DirectSound (2 in, 0 out)\n",
      "   29 Mikrofon (Virtual Desktop Audio), Windows DirectSound (2 in, 0 out)\n",
      "   30 Stream Mix (2 — Razer Seiren V2 X), Windows DirectSound (2 in, 0 out)\n",
      "   31 Playback Mix (2 — Razer Seiren V2 X), Windows DirectSound (2 in, 0 out)\n",
      "   32 Mikrofon (Voicemod Virtual Audio Device (WDM)), Windows DirectSound (2 in, 0 out)\n",
      "   33 Mikrofon (Steam Streaming Microphone), Windows DirectSound (2 in, 0 out)\n",
      "   34 Headset Microphone (Oculus Virtual Audio Device), Windows DirectSound (2 in, 0 out)\n",
      "   35 Mikrofon (Razer Barracuda X), Windows DirectSound (2 in, 0 out)\n",
      "   36 Microphone (2 — Razer Seiren V2 X), Windows DirectSound (2 in, 0 out)\n",
      "   37 Podstawowy sterownik dźwięku, Windows DirectSound (0 in, 2 out)\n",
      "   38 Głośniki (Razer Barracuda X), Windows DirectSound (0 in, 2 out)\n",
      "   39 Słuchawki (Oculus Virtual Audio Device), Windows DirectSound (0 in, 2 out)\n",
      "   40 Sound Effects (2 — Razer Seiren V2 X), Windows DirectSound (0 in, 2 out)\n",
      "   41 Game (2 — Razer Seiren V2 X), Windows DirectSound (0 in, 2 out)\n",
      "   42 Głośniki (7.1 Surround Sound), Windows DirectSound (0 in, 8 out)\n",
      "   43 Głośniki (Steam Streaming Speakers), Windows DirectSound (0 in, 2 out)\n",
      "   44 Realtek Digital Output (Realtek(R) Audio), Windows DirectSound (0 in, 2 out)\n",
      "   45 Aux 2 (2 — Razer Seiren V2 X), Windows DirectSound (0 in, 2 out)\n",
      "   46 Browser (2 — Razer Seiren V2 X), Windows DirectSound (0 in, 2 out)\n",
      "   47 KG251Q (NVIDIA High Definition Audio), Windows DirectSound (0 in, 2 out)\n",
      "   48 Aux 3 (2 — Razer Seiren V2 X), Windows DirectSound (0 in, 2 out)\n",
      "   49 Głośniki (Steam Streaming Microphone), Windows DirectSound (0 in, 2 out)\n",
      "   50 Linia (Voicemod Virtual Audio Device (WDM)), Windows DirectSound (0 in, 2 out)\n",
      "   51 Voice Chat (2 — Razer Seiren V2 X), Windows DirectSound (0 in, 2 out)\n",
      "   52 System (2 — Razer Seiren V2 X), Windows DirectSound (0 in, 2 out)\n",
      "   53 Aux 1 (2 — Razer Seiren V2 X), Windows DirectSound (0 in, 2 out)\n",
      "   54 Music (2 — Razer Seiren V2 X), Windows DirectSound (0 in, 2 out)\n",
      "   55 Headphones (2 — Razer Seiren V2 X), Windows DirectSound (0 in, 2 out)\n",
      "   56 Słuchawki (Oculus Virtual Audio Device), Windows WASAPI (0 in, 2 out)\n",
      "   57 Sound Effects (2 — Razer Seiren V2 X), Windows WASAPI (0 in, 2 out)\n",
      "   58 Game (2 — Razer Seiren V2 X), Windows WASAPI (0 in, 2 out)\n",
      "   59 Głośniki (7.1 Surround Sound), Windows WASAPI (0 in, 8 out)\n",
      "   60 Głośniki (Steam Streaming Speakers), Windows WASAPI (0 in, 2 out)\n",
      "   61 Realtek Digital Output (Realtek(R) Audio), Windows WASAPI (0 in, 2 out)\n",
      "   62 Aux 2 (2 — Razer Seiren V2 X), Windows WASAPI (0 in, 2 out)\n",
      "   63 Browser (2 — Razer Seiren V2 X), Windows WASAPI (0 in, 2 out)\n",
      "   64 KG251Q (NVIDIA High Definition Audio), Windows WASAPI (0 in, 2 out)\n",
      "   65 Aux 3 (2 — Razer Seiren V2 X), Windows WASAPI (0 in, 2 out)\n",
      "   66 Głośniki (Steam Streaming Microphone), Windows WASAPI (0 in, 2 out)\n",
      "   67 Linia (Voicemod Virtual Audio Device (WDM)), Windows WASAPI (0 in, 2 out)\n",
      "   68 Voice Chat (2 — Razer Seiren V2 X), Windows WASAPI (0 in, 2 out)\n",
      "   69 System (2 — Razer Seiren V2 X), Windows WASAPI (0 in, 2 out)\n",
      "   70 Aux 1 (2 — Razer Seiren V2 X), Windows WASAPI (0 in, 2 out)\n",
      "   71 Music (2 — Razer Seiren V2 X), Windows WASAPI (0 in, 2 out)\n",
      "   72 Headphones (2 — Razer Seiren V2 X), Windows WASAPI (0 in, 2 out)\n",
      "   73 Głośniki (Razer Barracuda X), Windows WASAPI (0 in, 2 out)\n",
      "   74 Mikrofon (Virtual Desktop Audio), Windows WASAPI (1 in, 0 out)\n",
      "   75 Stream Mix (2 — Razer Seiren V2 X), Windows WASAPI (2 in, 0 out)\n",
      "   76 Playback Mix (2 — Razer Seiren V2 X), Windows WASAPI (2 in, 0 out)\n",
      "   77 Mikrofon (Voicemod Virtual Audio Device (WDM)), Windows WASAPI (2 in, 0 out)\n",
      "   78 Mikrofon (Steam Streaming Microphone), Windows WASAPI (2 in, 0 out)\n",
      "   79 Headset Microphone (Oculus Virtual Audio Device), Windows WASAPI (1 in, 0 out)\n",
      "   80 Mikrofon (Razer Barracuda X), Windows WASAPI (1 in, 0 out)\n",
      "   81 Microphone (2 — Razer Seiren V2 X), Windows WASAPI (1 in, 0 out)\n",
      "   82 Voice Chat (Voice Chat), Windows WDM-KS (0 in, 2 out)\n",
      "   83 System (System), Windows WDM-KS (0 in, 2 out)\n",
      "   84 Aux 3 (Aux 3), Windows WDM-KS (0 in, 2 out)\n",
      "   85 Sound Effects (Sound Effects), Windows WDM-KS (0 in, 2 out)\n",
      "   86 Game (Game), Windows WDM-KS (0 in, 2 out)\n",
      "   87 Playback Mix (Playback Mix), Windows WDM-KS (2 in, 0 out)\n",
      "   88 Microphone (Microphone), Windows WDM-KS (1 in, 0 out)\n",
      "   89 Aux 2 (Aux 2), Windows WDM-KS (0 in, 2 out)\n",
      "   90 Browser (Browser), Windows WDM-KS (0 in, 2 out)\n",
      "   91 Music (Music), Windows WDM-KS (0 in, 2 out)\n",
      "   92 Headphones (Headphones), Windows WDM-KS (0 in, 2 out)\n",
      "   93 Stream Mix (Stream Mix), Windows WDM-KS (2 in, 0 out)\n",
      "   94 Aux 1 (Aux 1), Windows WDM-KS (0 in, 2 out)\n",
      "   95 Output 1 (OCULUSVAD Wave Speaker Headphone), Windows WDM-KS (0 in, 2 out)\n",
      "   96 Output 2 (OCULUSVAD Wave Speaker Headphone), Windows WDM-KS (0 in, 2 out)\n",
      "   97 Input (OCULUSVAD Wave Speaker Headphone), Windows WDM-KS (2 in, 0 out)\n",
      "   98 Headset Microphone (OCULUSVAD Wave Microphone Headphone), Windows WDM-KS (1 in, 0 out)\n",
      "   99 Miks stereo (Realtek HD Audio Stereo input), Windows WDM-KS (2 in, 0 out)\n",
      "  100 Speakers (Realtek HD Audio output), Windows WDM-KS (0 in, 8 out)\n",
      "  101 Wejście liniowe (Realtek HD Audio Line input), Windows WDM-KS (2 in, 0 out)\n",
      "  102 Mikrofon (Realtek HD Audio Mic input), Windows WDM-KS (2 in, 0 out)\n",
      "  103 Headphones (Realtek HD Audio 2nd output), Windows WDM-KS (0 in, 2 out)\n",
      "  104 SPDIF Out (Realtek HDA SPDIF Out), Windows WDM-KS (0 in, 2 out)\n",
      "  105 Mikrofon (VDVAD Wave), Windows WDM-KS (1 in, 0 out)\n",
      "  106 Speakers (VDVAD Wave), Windows WDM-KS (0 in, 8 out)\n",
      "  107 Mikrofon (Steam Streaming Microphone Wave), Windows WDM-KS (8 in, 0 out)\n",
      "  108 Speakers (Steam Streaming Microphone Wave), Windows WDM-KS (0 in, 8 out)\n",
      "  109 Output (NVIDIA High Definition Audio), Windows WDM-KS (0 in, 2 out)\n",
      "  110 Speakers 1 (7.1 Surround Sound Wave Speaker Headphone), Windows WDM-KS (0 in, 8 out)\n",
      "  111 Speakers 2 (7.1 Surround Sound Wave Speaker Headphone), Windows WDM-KS (0 in, 2 out)\n",
      "  112 Input (7.1 Surround Sound Wave Speaker Headphone), Windows WDM-KS (8 in, 0 out)\n",
      "  113 Mikrofon (Voicemod VAD Wave), Windows WDM-KS (2 in, 0 out)\n",
      "  114 Line Out (Voicemod VAD Wave), Windows WDM-KS (0 in, 2 out)\n",
      "  115 Input (Steam Streaming Speakers Wave), Windows WDM-KS (8 in, 0 out)\n",
      "  116 Speakers (Steam Streaming Speakers Wave), Windows WDM-KS (0 in, 8 out)\n",
      "  117 Mikrofon (Razer Barracuda X), Windows WDM-KS (1 in, 0 out)\n",
      "  118 Głośniki (Razer Barracuda X), Windows WDM-KS (0 in, 2 out)\n"
     ]
    }
   ],
   "source": [
    "import sounddevice as sd\n",
    "\n",
    "print(sd.query_devices())"
   ]
  },
  {
   "cell_type": "code",
   "execution_count": 47,
   "metadata": {},
   "outputs": [
    {
     "name": "stdout",
     "output_type": "stream",
     "text": [
      "Recording...\n",
      "Finished recording.\n"
     ]
    }
   ],
   "source": [
    "record_audio('test.wav', record_seconds=10)"
   ]
  },
  {
   "cell_type": "code",
   "execution_count": 48,
   "metadata": {},
   "outputs": [
    {
     "name": "stdout",
     "output_type": "stream",
     "text": [
      "{'text': ' Halo, halo, jeden test, test, jeden, dwa, trzy, test, halo, jak się czujesz? Czy mnie słychać? Dobrze?'}\n"
     ]
    }
   ],
   "source": [
    "transcribe_audio('test.wav')"
   ]
  },
  {
   "cell_type": "code",
   "execution_count": null,
   "metadata": {},
   "outputs": [],
   "source": [
    "import logging\n",
    "\n",
    "logging.StreamHandler"
   ]
  },
  {
   "cell_type": "code",
   "execution_count": 38,
   "metadata": {},
   "outputs": [
    {
     "name": "stdout",
     "output_type": "stream",
     "text": [
      "C:\\Users\\Kuba\\.cache\\huggingface\\hub\n"
     ]
    }
   ],
   "source": [
    "from transformers import file_utils\n",
    "\n",
    "print(file_utils.default_cache_path)"
   ]
  }
 ],
 "metadata": {
  "kernelspec": {
   "display_name": "Python 3",
   "language": "python",
   "name": "python3"
  },
  "language_info": {
   "codemirror_mode": {
    "name": "ipython",
    "version": 3
   },
   "file_extension": ".py",
   "mimetype": "text/x-python",
   "name": "python",
   "nbconvert_exporter": "python",
   "pygments_lexer": "ipython3",
   "version": "3.11.3"
  }
 },
 "nbformat": 4,
 "nbformat_minor": 2
}
