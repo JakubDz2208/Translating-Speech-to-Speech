{
 "cells": [
  {
   "cell_type": "code",
   "execution_count": 24,
   "metadata": {},
   "outputs": [],
   "source": [
    "import os\n",
    "import sys\n",
    "import pyaudio\n",
    "import wave\n",
    "import random\n",
    "from datetime import datetime"
   ]
  },
  {
   "cell_type": "code",
   "execution_count": 2,
   "metadata": {},
   "outputs": [],
   "source": [
    "def get_random_phrase(phrases_file):\n",
    "    with open(phrases_file, 'r') as f:\n",
    "        phrases = f.readlines()\n",
    "    return random.choice(phrases).strip()"
   ]
  },
  {
   "cell_type": "code",
   "execution_count": 12,
   "metadata": {},
   "outputs": [],
   "source": [
    "def generate_filename(output_dir, prefix, index):\n",
    "    return os.path.join(output_dir, f\"{prefix}_{index:03}.wav\")"
   ]
  },
  {
   "cell_type": "code",
   "execution_count": 25,
   "metadata": {},
   "outputs": [],
   "source": [
    "def generate_prefix():\n",
    "    now = datetime.now()\n",
    "    return now.strftime(\"%Y%m%d_%H%M%S\")"
   ]
  },
  {
   "cell_type": "code",
   "execution_count": 15,
   "metadata": {},
   "outputs": [],
   "source": [
    "def list_input_devices():\n",
    "    audio = pyaudio.PyAudio()\n",
    "    num_devices = audio.get_device_count()\n",
    "    print(\"Available input devices:\")\n",
    "    for i in range(num_devices):\n",
    "        info = audio.get_device_info_by_index(i)\n",
    "        if info.get('maxInputChannels') > 0:\n",
    "            print(f\"{i}: {info['name']}\")\n",
    "    audio.terminate()"
   ]
  },
  {
   "cell_type": "code",
   "execution_count": 20,
   "metadata": {},
   "outputs": [],
   "source": [
    "def record_audio(output_dir, prefix, phrases_file, input_device_index, duration=5, channels=1, sample_rate=44100, chunk_size=1024, format_=pyaudio.paInt16):\n",
    "    \"\"\"\n",
    "    Record audio from the selected microphone input device and save it as WAV files.\n",
    "\n",
    "    Args:\n",
    "        output_dir (str): Directory where the WAV files will be saved.\n",
    "        prefix (str): Prefix for the filenames.\n",
    "        phrases_file (str): Path to the file containing phrases.\n",
    "        input_device_index (int): Index of the selected input device.\n",
    "        duration (int): Duration of each recording in seconds.\n",
    "        channels (int): Number of audio channels (1 for mono, 2 for stereo).\n",
    "        sample_rate (int): Sampling rate of the audio.\n",
    "        chunk_size (int): Size of each audio chunk to be recorded.\n",
    "        format_ (int): Format of the audio stream.\n",
    "    \"\"\"\n",
    "    audio = pyaudio.PyAudio()\n",
    "\n",
    "    # Open audio stream with selected input device\n",
    "    stream = audio.open(format=format_,\n",
    "                        channels=channels,\n",
    "                        rate=sample_rate,\n",
    "                        input=True,\n",
    "                        frames_per_buffer=chunk_size,\n",
    "                        input_device_index=input_device_index)\n",
    "\n",
    "    print(\"Recording...\")\n",
    "\n",
    "    try:\n",
    "        for index in range(1, 6):  # Record 5 samples\n",
    "            filename = generate_filename(output_dir, prefix, index)\n",
    "            phrase = get_random_phrase(phrases_file)\n",
    "            print(f\"Please say: \\\"{phrase}\\\"\")\n",
    "            \n",
    "            frames = []\n",
    "            for i in range(0, int(sample_rate / chunk_size * duration)):\n",
    "                data = stream.read(chunk_size)\n",
    "                frames.append(data)\n",
    "\n",
    "            # Save the recorded audio as a WAV file\n",
    "            with wave.open(filename, 'wb') as wf:\n",
    "                wf.setnchannels(channels)\n",
    "                wf.setsampwidth(audio.get_sample_size(format_))\n",
    "                wf.setframerate(sample_rate)\n",
    "                wf.writeframes(b''.join(frames))\n",
    "            \n",
    "            print(f\"Recording {index} saved as {filename}.\")\n",
    "    finally:\n",
    "        # Stop and close the audio stream\n",
    "        stream.stop_stream()\n",
    "        stream.close()\n",
    "        audio.terminate()"
   ]
  },
  {
   "cell_type": "code",
   "execution_count": 14,
   "metadata": {},
   "outputs": [],
   "source": [
    "if __name__ == \"__main__\":\n",
    "    output_dir = \"recordings\"\n",
    "    prefix = \"voice_sample\"\n",
    "    phrases_file = \"phrases.txt\"\n",
    "    duration = 5"
   ]
  },
  {
   "cell_type": "code",
   "execution_count": 6,
   "metadata": {},
   "outputs": [],
   "source": [
    "if not os.path.exists(output_dir):\n",
    "        os.makedirs(output_dir)"
   ]
  },
  {
   "cell_type": "code",
   "execution_count": 21,
   "metadata": {},
   "outputs": [
    {
     "name": "stdout",
     "output_type": "stream",
     "text": [
      "Available input devices:\n",
      "0: Mapowanie dĹşwiÄ™ku Microsoft - Input\n",
      "1: Mikrofon (Virtual Desktop Audio\n",
      "2: Stream Mix (2 â€” Razer Seiren V2\n",
      "3: Playback Mix (2 â€” Razer Seiren \n",
      "4: Mikrofon (Voicemod Virtual Audi\n",
      "5: Mikrofon (Steam Streaming Micro\n",
      "6: Headset Microphone (Oculus Virt\n",
      "7: Mikrofon (Razer Barracuda X)\n",
      "8: Microphone (2 â€” Razer Seiren V2\n",
      "28: Podstawowy sterownik przechwytywania dĹşwiÄ™ku\n",
      "29: Mikrofon (Virtual Desktop Audio)\n",
      "30: Stream Mix (2 â€” Razer Seiren V2 X)\n",
      "31: Playback Mix (2 â€” Razer Seiren V2 X)\n",
      "32: Mikrofon (Voicemod Virtual Audio Device (WDM))\n",
      "33: Mikrofon (Steam Streaming Microphone)\n",
      "34: Headset Microphone (Oculus Virtual Audio Device)\n",
      "35: Mikrofon (Razer Barracuda X)\n",
      "36: Microphone (2 â€” Razer Seiren V2 X)\n",
      "74: Mikrofon (Virtual Desktop Audio)\n",
      "75: Stream Mix (2 â€” Razer Seiren V2 X)\n",
      "76: Playback Mix (2 â€” Razer Seiren V2 X)\n",
      "77: Mikrofon (Voicemod Virtual Audio Device (WDM))\n",
      "78: Mikrofon (Steam Streaming Microphone)\n",
      "79: Headset Microphone (Oculus Virtual Audio Device)\n",
      "80: Mikrofon (Razer Barracuda X)\n",
      "81: Microphone (2 â€” Razer Seiren V2 X)\n",
      "87: Playback Mix (Playback Mix)\n",
      "88: Microphone (Microphone)\n",
      "93: Stream Mix (Stream Mix)\n",
      "97: Input (OCULUSVAD Wave Speaker Headphone)\n",
      "98: Headset Microphone (OCULUSVAD Wave Microphone Headphone)\n",
      "99: Miks stereo (Realtek HD Audio Stereo input)\n",
      "101: WejĹ›cie liniowe (Realtek HD Audio Line input)\n",
      "102: Mikrofon (Realtek HD Audio Mic input)\n",
      "105: Mikrofon (VDVAD Wave)\n",
      "107: Mikrofon (Steam Streaming Microphone Wave)\n",
      "112: Input (7.1 Surround Sound Wave Speaker Headphone)\n",
      "113: Mikrofon (Voicemod VAD Wave)\n",
      "115: Input (Steam Streaming Speakers Wave)\n",
      "117: Mikrofon (Razer Barracuda X)\n"
     ]
    }
   ],
   "source": [
    "list_input_devices()\n",
    "input_device_index = int(input(\"Enter the index of the input device you want to use: \"))"
   ]
  },
  {
   "cell_type": "code",
   "execution_count": 26,
   "metadata": {},
   "outputs": [
    {
     "name": "stdout",
     "output_type": "stream",
     "text": [
      "Recording...\n",
      "Please say: \"I love to learn new things.\"\n",
      "Recording 1 saved as recordings\\20240416_172020_001.wav.\n",
      "Please say: \"Today is a beautiful day.\"\n",
      "Recording 2 saved as recordings\\20240416_172020_002.wav.\n",
      "Please say: \"The sky is clear and blue.\"\n",
      "Recording 3 saved as recordings\\20240416_172020_003.wav.\n",
      "Please say: \"The sky is clear and blue.\"\n",
      "Recording 4 saved as recordings\\20240416_172020_004.wav.\n",
      "Please say: \"I love to learn new things.\"\n",
      "Recording 5 saved as recordings\\20240416_172020_005.wav.\n"
     ]
    }
   ],
   "source": [
    "prefix = generate_prefix()\n",
    "try:\n",
    "        record_audio(output_dir, prefix, phrases_file, input_device_index, duration=duration)\n",
    "except KeyboardInterrupt:\n",
    "        print(\"\\nRecording interrupted.\")\n",
    "        sys.exit(0)"
   ]
  }
 ],
 "metadata": {
  "kernelspec": {
   "display_name": "Python 3",
   "language": "python",
   "name": "python3"
  },
  "language_info": {
   "codemirror_mode": {
    "name": "ipython",
    "version": 3
   },
   "file_extension": ".py",
   "mimetype": "text/x-python",
   "name": "python",
   "nbconvert_exporter": "python",
   "pygments_lexer": "ipython3",
   "version": "3.11.3"
  }
 },
 "nbformat": 4,
 "nbformat_minor": 2
}
